{
  "nbformat": 4,
  "nbformat_minor": 0,
  "metadata": {
    "colab": {
      "provenance": [],
      "authorship_tag": "ABX9TyPQ4o1cx+gTZQbvggZlB+5X",
      "include_colab_link": true
    },
    "kernelspec": {
      "name": "python3",
      "display_name": "Python 3"
    },
    "language_info": {
      "name": "python"
    }
  },
  "cells": [
    {
      "cell_type": "markdown",
      "metadata": {
        "id": "view-in-github",
        "colab_type": "text"
      },
      "source": [
        "<a href=\"https://colab.research.google.com/github/jaissonjpp/image_processing/blob/main/image_processing.ipynb\" target=\"_parent\"><img src=\"https://colab.research.google.com/assets/colab-badge.svg\" alt=\"Open In Colab\"/></a>"
      ]
    },
    {
      "cell_type": "code",
      "source": [
        "from io import BytesIO\n",
        "from PIL import Image\n",
        "import numpy as np"
      ],
      "metadata": {
        "id": "yRWCdBMg30F5"
      },
      "execution_count": 2,
      "outputs": []
    },
    {
      "cell_type": "code",
      "source": [
        "image_data = open('/content/photo.jpeg', 'rb').read()\n",
        "img = Image.open(BytesIO(image_data))"
      ],
      "metadata": {
        "id": "LpYVB4uk3qUt"
      },
      "execution_count": null,
      "outputs": []
    },
    {
      "cell_type": "code",
      "source": [
        "\n",
        "print(img.size)\n",
        "print(img.format)"
      ],
      "metadata": {
        "colab": {
          "base_uri": "https://localhost:8080/"
        },
        "id": "I8CEcnW84ZBT",
        "outputId": "994a2dbd-04cd-4cf5-c1ff-9d3214a0c649"
      },
      "execution_count": null,
      "outputs": [
        {
          "output_type": "stream",
          "name": "stdout",
          "text": [
            "(3000, 1929)\n",
            "JPEG\n"
          ]
        }
      ]
    },
    {
      "cell_type": "code",
      "source": [
        "img_array = np.array(img)"
      ],
      "metadata": {
        "id": "PJvvHG2843c0"
      },
      "execution_count": null,
      "outputs": []
    },
    {
      "cell_type": "code",
      "source": [
        "img_array.shape"
      ],
      "metadata": {
        "colab": {
          "base_uri": "https://localhost:8080/"
        },
        "id": "JiTttdOC49Q4",
        "outputId": "c6267ee6-787b-40c9-c7c9-3b86047271e8"
      },
      "execution_count": null,
      "outputs": [
        {
          "output_type": "execute_result",
          "data": {
            "text/plain": [
              "(1929, 3000, 3)"
            ]
          },
          "metadata": {},
          "execution_count": 36
        }
      ]
    },
    {
      "cell_type": "code",
      "source": [
        "img_array.dtype"
      ],
      "metadata": {
        "colab": {
          "base_uri": "https://localhost:8080/"
        },
        "id": "Yfd8zcsv5V8A",
        "outputId": "45c1b2c0-e350-4ee9-a26c-bbf73aa0ba3e"
      },
      "execution_count": null,
      "outputs": [
        {
          "output_type": "execute_result",
          "data": {
            "text/plain": [
              "dtype('uint8')"
            ]
          },
          "metadata": {},
          "execution_count": 37
        }
      ]
    },
    {
      "cell_type": "code",
      "source": [
        "print(img_array.min())\n",
        "print(img_array.max())"
      ],
      "metadata": {
        "colab": {
          "base_uri": "https://localhost:8080/"
        },
        "id": "pjjzEE5s5azy",
        "outputId": "f44ed0d4-4cfd-4744-e85b-0cb0afa0fa1c"
      },
      "execution_count": null,
      "outputs": [
        {
          "output_type": "stream",
          "name": "stdout",
          "text": [
            "0\n",
            "255\n"
          ]
        }
      ]
    },
    {
      "cell_type": "code",
      "source": [
        "print(img_array.mean())\n",
        "print(img_array.std())"
      ],
      "metadata": {
        "colab": {
          "base_uri": "https://localhost:8080/"
        },
        "id": "drYfTjZM50k4",
        "outputId": "61fd778e-e2b8-45f5-a437-1e49f183e3c6"
      },
      "execution_count": null,
      "outputs": [
        {
          "output_type": "stream",
          "name": "stdout",
          "text": [
            "153.69955359714302\n",
            "68.27518883906332\n"
          ]
        }
      ]
    },
    {
      "cell_type": "code",
      "source": [
        "print(img_array[0][0])"
      ],
      "metadata": {
        "colab": {
          "base_uri": "https://localhost:8080/"
        },
        "id": "rEynJEg253QY",
        "outputId": "edd08a11-d3c0-4a30-d16e-0848875cd98a"
      },
      "execution_count": null,
      "outputs": [
        {
          "output_type": "stream",
          "name": "stdout",
          "text": [
            "[ 72 143 185]\n"
          ]
        }
      ]
    },
    {
      "cell_type": "code",
      "source": [
        "img_red = np.zeros_like(img_array)\n",
        "img_green = np.zeros_like(img_array)\n",
        "img_blue = np.zeros_like(img_array)\n",
        "img_red[:, :, 0] = img_array[:, :, 0]\n",
        "img_green[:, :, 1] = img_array[:, :, 1]\n",
        "img_blue[:, :, 2] = img_array[:, :, 2]"
      ],
      "metadata": {
        "id": "j4rK06D_8C_D"
      },
      "execution_count": null,
      "outputs": []
    },
    {
      "cell_type": "code",
      "source": [
        "print(img_red[0][0])\n",
        "print(img_green[0][0])\n",
        "print(img_blue[0][0])"
      ],
      "metadata": {
        "colab": {
          "base_uri": "https://localhost:8080/"
        },
        "id": "DCPkqsxD7koH",
        "outputId": "619be19d-055e-4b2d-952a-ba722b078237"
      },
      "execution_count": null,
      "outputs": [
        {
          "output_type": "stream",
          "name": "stdout",
          "text": [
            "[72  0  0]\n",
            "[  0 143   0]\n",
            "[  0   0 185]\n"
          ]
        }
      ]
    },
    {
      "cell_type": "code",
      "source": [
        "img_red = Image.fromarray(img_red.astype(np.uint8))\n",
        "img_green = Image.fromarray(img_green.astype(np.uint8))\n",
        "img_blue = Image.fromarray(img_blue.astype(np.uint8))"
      ],
      "metadata": {
        "id": "KIFzz4i_8gfm"
      },
      "execution_count": null,
      "outputs": []
    },
    {
      "cell_type": "code",
      "source": [
        "img_red.save(\"red_image.jpg\")\n",
        "img_green.save(\"green_image.jpg\")\n",
        "img_blue.save(\"blue_image.jpg\")"
      ],
      "metadata": {
        "id": "w4v4WRpZ8kZR"
      },
      "execution_count": null,
      "outputs": []
    },
    {
      "cell_type": "code",
      "source": [
        "import numpy as np\n",
        "\n",
        "# Carregue as imagens como arrays NumPy (substitua pelos seus nomes de arquivo)\n",
        "img1 = np.array(Image.open('/content/photo1.jpeg'))\n",
        "img2 = np.array(Image.open('/content/red_image.jpg'))\n",
        "\n",
        "# Defina o fator de interpolação (alpha)\n",
        "alpha = 0.5\n",
        "\n",
        "# Interpole as imagens\n",
        "interpolated_image = img1 * alpha + img2 * (1 - alpha)\n",
        "\n",
        "# Converta a imagem interpolada de volta para o tipo uint8\n",
        "interpolated_image = interpolated_image.astype(np.uint8)\n",
        "\n",
        "# Salve a imagem interpolada (substitua pelo nome de arquivo desejado)\n",
        "Image.fromarray(interpolated_image).save('interpolated_image_red.jpg')"
      ],
      "metadata": {
        "id": "OYKkcHIe-Rbd"
      },
      "execution_count": null,
      "outputs": []
    },
    {
      "cell_type": "code",
      "source": [
        "import numpy as np\n",
        "\n",
        "# Carregue as imagens como arrays NumPy\n",
        "img1 = np.array(Image.open('interpolated_image_red.jpg'))\n",
        "img2 = np.array(Image.open('photo1.jpeg'))\n",
        "\n",
        "# Calcule a diferença quadrada entre as imagens\n",
        "squared_diff = (img1 - img2) ** 2\n",
        "\n",
        "# Calcule a média da diferença quadrada\n",
        "mse = np.mean(squared_diff)\n",
        "\n",
        "# Imprima o resultado\n",
        "print(\"MSE:\", mse)"
      ],
      "metadata": {
        "colab": {
          "base_uri": "https://localhost:8080/"
        },
        "id": "IzM5fH4K_0P4",
        "outputId": "7ff0994b-7090-4a34-a570-5e26ded94fad"
      },
      "execution_count": null,
      "outputs": [
        {
          "output_type": "stream",
          "name": "stdout",
          "text": [
            "MSE: 76.34324364955935\n"
          ]
        }
      ]
    }
  ]
}